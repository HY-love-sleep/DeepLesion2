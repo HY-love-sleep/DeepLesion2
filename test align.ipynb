{
 "cells": [
  {
   "cell_type": "code",
   "execution_count": 1,
   "metadata": {},
   "outputs": [],
   "source": [
    "from converters import AlignWrapper\n",
    "import torchvision\n",
    "import torch\n",
    "from torch import nn\n",
    "import copy\n",
    "# m is a standard pytorch model\n",
    "m1 = torchvision.models.resnet18()\n",
    "# m1 = m1.features\n",
    "m1 = nn.DataParallel(m1)\n",
    "# after convert, m is using AlignConv\n",
    "conv_cfg = dict(conv_type='AlignConv',padding_mode='zeros', \n",
    "                 n_fold=8, align=True, inplace=True,\n",
    "                 ref_spacing=0.2, shift_padding_zero=True)\n",
    "wrapper = AlignWrapper(conv_cfg)\n",
    "m2 = wrapper(copy.deepcopy(m1))"
   ]
  },
  {
   "cell_type": "code",
   "execution_count": 2,
   "metadata": {
    "scrolled": true
   },
   "outputs": [
    {
     "name": "stdout",
     "output_type": "stream",
     "text": [
      "tensor([[0.2399],\n",
      "        [0.0817]], device='cuda:1')\n",
      "tensor([[0.1586],\n",
      "        [0.9330]], device='cuda:0')\n",
      "tensor([[0.2399],\n",
      "        [0.0817]], device='cuda:1')\n",
      "tensor([[0.1586],\n",
      "        [0.9330]], device='cuda:0')\n",
      "tensor([[0.2399],\n",
      "        [0.0817]], device='cuda:1')\n",
      "tensor([[0.1586],\n",
      "        [0.9330]], device='cuda:0')\n",
      "tensor([[0.2399],\n",
      "        [0.0817]], device='cuda:1')\n",
      "tensor([[0.1586],\n",
      "        [0.9330]], device='cuda:0')\n",
      "tensor([[0.2399],\n",
      "        [0.0817]], device='cuda:1')\n",
      "tensor([[0.1586],\n",
      "        [0.9330]], device='cuda:0')\n",
      "tensor([[0.2399],\n",
      "        [0.0817]], device='cuda:1')\n",
      "tensor([[0.1586],\n",
      "        [0.9330]], device='cuda:0')\n",
      "tensor([[0.2399],\n",
      "        [0.0817]], device='cuda:1')\n",
      "tensor([[0.1586],\n",
      "        [0.9330]], device='cuda:0')\n",
      "tensor([[0.2399],\n",
      "        [0.0817]], device='cuda:1')\n",
      "tensor([[0.1586],\n",
      "        [0.9330]], device='cuda:0')\n",
      "tensor([[0.2399],\n",
      "        [0.0817]], device='cuda:1')\n",
      "tensor([[0.1586],\n",
      "        [0.9330]], device='cuda:0')\n",
      "tensor([[0.2399],\n",
      "        [0.0817]], device='cuda:1')\n",
      "tensor([[0.1586],\n",
      "        [0.9330]], device='cuda:0')\n",
      "tensor([[0.2399],\n",
      "        [0.0817]], device='cuda:1')\n",
      "tensor([[0.1586],\n",
      "        [0.9330]], device='cuda:0')\n",
      "tensor([[0.2399],\n",
      "        [0.0817]], device='cuda:1')\n",
      "tensor([[0.1586],\n",
      "        [0.9330]], device='cuda:0')\n",
      "tensor([[0.2399],\n",
      "        [0.0817]], device='cuda:1')\n",
      "tensor([[0.1586],\n",
      "        [0.9330]], device='cuda:0')\n",
      "tensor([[0.2399],\n",
      "        [0.0817]], device='cuda:1')\n",
      "tensor([[0.1586],\n",
      "        [0.9330]], device='cuda:0')\n",
      "tensor([[0.2399],\n",
      "        [0.0817]], device='cuda:1')\n",
      "tensor([[0.1586],\n",
      "        [0.9330]], device='cuda:0')\n",
      "tensor([[0.2399],\n",
      "        [0.0817]], device='cuda:1')\n",
      "tensor([[0.1586],\n",
      "        [0.9330]], device='cuda:0')\n",
      "tensor([[0.2399],\n",
      "        [0.0817]], device='cuda:1')\n",
      "tensor([[0.1586],\n",
      "        [0.9330]], device='cuda:0')\n",
      "tensor([[0.2399],\n",
      "        [0.0817]], device='cuda:1')\n",
      "tensor([[0.1586],\n",
      "        [0.9330]], device='cuda:0')\n",
      "tensor([[0.2399],\n",
      "        [0.0817]], device='cuda:1')\n",
      "tensor([[0.1586],\n",
      "        [0.9330]], device='cuda:0')\n",
      "tensor([[0.2399],\n",
      "        [0.0817]], device='cuda:1')\n",
      "tensor([[0.1586],\n",
      "        [0.9330]], device='cuda:0')\n"
     ]
    }
   ],
   "source": [
    "batch_size = 4\n",
    "in_channels = 1\n",
    "d = 7\n",
    "height = 320\n",
    "width = 320\n",
    "input = torch.rand(batch_size, in_channels, d,height, width).cuda()\n",
    "spacing = torch.rand(batch_size, 1).cuda()\n",
    "m2.cuda()\n",
    "out = m2(input, z_spacing=spacing)"
   ]
  },
  {
   "cell_type": "code",
   "execution_count": 4,
   "metadata": {},
   "outputs": [
    {
     "data": {
      "text/plain": [
       "torch.Size([4, 1000])"
      ]
     },
     "execution_count": 4,
     "metadata": {},
     "output_type": "execute_result"
    }
   ],
   "source": [
    "out.shape"
   ]
  },
  {
   "cell_type": "code",
   "execution_count": null,
   "metadata": {},
   "outputs": [],
   "source": []
  }
 ],
 "metadata": {
  "kernelspec": {
   "display_name": "Python 3",
   "language": "python",
   "name": "python3"
  },
  "language_info": {
   "codemirror_mode": {
    "name": "ipython",
    "version": 3
   },
   "file_extension": ".py",
   "mimetype": "text/x-python",
   "name": "python",
   "nbconvert_exporter": "python",
   "pygments_lexer": "ipython3",
   "version": "3.7.3"
  }
 },
 "nbformat": 4,
 "nbformat_minor": 2
}
